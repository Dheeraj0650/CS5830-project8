{
  "nbformat": 4,
  "nbformat_minor": 0,
  "metadata": {
    "colab": {
      "provenance": [],
      "gpuType": "T4"
    },
    "kernelspec": {
      "name": "python3",
      "display_name": "Python 3"
    },
    "language_info": {
      "name": "python"
    },
    "accelerator": "GPU",
    "gpuClass": "standard"
  },
  "cells": [
    {
      "cell_type": "markdown",
      "source": [
        "# **Decision trees**"
      ],
      "metadata": {
        "id": "G2-TL4mf8dG6"
      }
    },
    {
      "cell_type": "code",
      "execution_count": null,
      "metadata": {
        "id": "2cabfLIF2k9F"
      },
      "outputs": [],
      "source": [
        "import pandas as pd\n",
        "import numpy as np\n",
        "from sklearn.neighbors import NearestNeighbors\n",
        "import random\n",
        "from sklearn.tree import export_graphviz\n",
        "from IPython.display import SVG\n",
        "!pip install graphviz\n",
        "from graphviz import Source\n",
        "from sklearn.tree import export_text\n",
        "\n",
        "import matplotlib.pyplot as plt"
      ]
    },
    {
      "cell_type": "code",
      "source": [
        "bankNote = pd.read_csv('BankNote_Authentication.csv')\n",
        "bankNote"
      ],
      "metadata": {
        "id": "62XQPTmB20_6"
      },
      "execution_count": null,
      "outputs": []
    },
    {
      "cell_type": "code",
      "source": [
        "feature_cols = ['variance','skewness','curtosis','entropy']\n",
        "bankNote = bankNote.rename({'class':'genuine'}, axis=1)\n",
        "bankNote.isnull().sum()"
      ],
      "metadata": {
        "id": "2gldyEDG21Xs"
      },
      "execution_count": null,
      "outputs": []
    },
    {
      "cell_type": "code",
      "source": [
        "X = bankNote[feature_cols]\n",
        "y = bankNote.genuine\n",
        "\n",
        "from sklearn.tree import DecisionTreeClassifier\n",
        "from sklearn import tree\n",
        "treeclf = DecisionTreeClassifier(max_depth=3, random_state=1)\n",
        "treeclf.fit(X, y)\n",
        "\n",
        "graph = Source(tree.export_graphviz(treeclf, out_file=None,\n",
        "                                    feature_names=feature_cols,\n",
        "                                    class_names=['0', '1'], filled = True))\n",
        "\n",
        "svg = SVG(graph.pipe(format='svg'))\n",
        "display(svg)"
      ],
      "metadata": {
        "id": "JctEJYUH5uKU"
      },
      "execution_count": null,
      "outputs": []
    },
    {
      "cell_type": "code",
      "source": [
        "decision_rules = export_text(treeclf, feature_names=feature_cols)\n",
        "print(decision_rules)"
      ],
      "metadata": {
        "id": "o0EeCffO0m4j"
      },
      "execution_count": null,
      "outputs": []
    },
    {
      "cell_type": "code",
      "source": [
        "pd.DataFrame({'feature':feature_cols, 'importance':treeclf.feature_importances_})"
      ],
      "metadata": {
        "id": "TcjtJ-hfwv0w"
      },
      "execution_count": null,
      "outputs": []
    },
    {
      "cell_type": "code",
      "source": [
        "from sklearn.tree import DecisionTreeClassifier\n",
        "from sklearn import tree\n",
        "treeclf = DecisionTreeClassifier(max_depth=5, random_state=1)\n",
        "treeclf.fit(X, y)\n",
        "\n",
        "graph = Source(tree.export_graphviz(treeclf, out_file=None,\n",
        "                                    feature_names=feature_cols,\n",
        "                                    class_names=['0', '1'], filled = True))\n",
        "\n",
        "svg = SVG(graph.pipe(format='svg'))\n",
        "display(svg)"
      ],
      "metadata": {
        "id": "PMxlniCBv2zb"
      },
      "execution_count": null,
      "outputs": []
    },
    {
      "cell_type": "code",
      "source": [
        "decision_rules = export_text(treeclf, feature_names=feature_cols)\n",
        "print(decision_rules)"
      ],
      "metadata": {
        "id": "OIA-cIprv8MY"
      },
      "execution_count": null,
      "outputs": []
    },
    {
      "cell_type": "code",
      "source": [
        "pd.DataFrame({'feature':feature_cols, 'importance':treeclf.feature_importances_})"
      ],
      "metadata": {
        "id": "6L2h52MgLIBA"
      },
      "execution_count": null,
      "outputs": []
    },
    {
      "cell_type": "markdown",
      "source": [
        "# **Neural networks**"
      ],
      "metadata": {
        "id": "EAfzEgeS8sNa"
      }
    },
    {
      "cell_type": "code",
      "source": [
        "import pandas as pd\n",
        "from sklearn.model_selection import train_test_split\n",
        "from sklearn.preprocessing import StandardScaler\n",
        "from sklearn.neural_network import MLPClassifier\n",
        "from sklearn.metrics import classification_report,confusion_matrix"
      ],
      "metadata": {
        "id": "fP24rOhd38zR"
      },
      "execution_count": null,
      "outputs": []
    },
    {
      "cell_type": "code",
      "source": [
        "feature_cols = ['variance','skewness','curtosis','entropy']\n",
        "\n",
        "X = bankNote[feature_cols]\n",
        "y = bankNote.genuine"
      ],
      "metadata": {
        "id": "z8bBo0zY9t1P"
      },
      "execution_count": null,
      "outputs": []
    },
    {
      "cell_type": "code",
      "source": [
        "X_train, X_test, y_train, y_test = train_test_split(X, y)"
      ],
      "metadata": {
        "id": "RV7LvouW39FN"
      },
      "execution_count": null,
      "outputs": []
    },
    {
      "cell_type": "code",
      "source": [
        "X.columns\n",
        "y.unique()"
      ],
      "metadata": {
        "id": "0Hyo3Mvd39WM"
      },
      "execution_count": null,
      "outputs": []
    },
    {
      "cell_type": "code",
      "source": [
        "scaler = StandardScaler()\n",
        "\n",
        "scaler.fit(X_train)\n",
        "\n",
        "X_train = scaler.transform(X_train)\n",
        "X_test = scaler.transform(X_test)\n",
        "\n",
        "X_train"
      ],
      "metadata": {
        "id": "XbGWaFmC9eq4"
      },
      "execution_count": null,
      "outputs": []
    },
    {
      "cell_type": "code",
      "source": [
        "mlp = MLPClassifier(hidden_layer_sizes=(3),max_iter=500)"
      ],
      "metadata": {
        "id": "Agupb6oH94GL"
      },
      "execution_count": null,
      "outputs": []
    },
    {
      "cell_type": "code",
      "source": [
        "mlp.fit(X_train,y_train)"
      ],
      "metadata": {
        "id": "jEAi5xkC96LX"
      },
      "execution_count": null,
      "outputs": []
    },
    {
      "cell_type": "code",
      "source": [
        "predictions = mlp.predict(X_test)"
      ],
      "metadata": {
        "id": "l9mCENA897pd"
      },
      "execution_count": null,
      "outputs": []
    },
    {
      "cell_type": "code",
      "source": [
        "print(confusion_matrix(y_test,predictions))"
      ],
      "metadata": {
        "id": "dCM4Ozau9-WM"
      },
      "execution_count": null,
      "outputs": []
    },
    {
      "cell_type": "code",
      "source": [
        "print(classification_report(y_test,predictions))"
      ],
      "metadata": {
        "id": "auDyYkAf-Ae-"
      },
      "execution_count": null,
      "outputs": []
    },
    {
      "cell_type": "code",
      "source": [
        "from sklearn.metrics import accuracy_score\n",
        "\n",
        "accuracy = accuracy_score(y_test, predictions)\n",
        "print('Test accuracy:', accuracy)"
      ],
      "metadata": {
        "id": "NhF63B-HNQQb"
      },
      "execution_count": null,
      "outputs": []
    },
    {
      "cell_type": "code",
      "source": [
        "print('This dataset has {} input nodes and {} output node(s)'.format(len(X.columns), len(y.unique())))\n",
        "print('There are {} 2D arrays of coefficients, one for each layer'.format(len(mlp.coefs_)))\n",
        "print('The layers have the following number of coefficients: {}')\n",
        "for l in range(len(mlp.coefs_)):\n",
        "    m = len(mlp.coefs_[l])\n",
        "    n = len(mlp.coefs_[l][0])\n",
        "    print('  {}: {}x{} ({} nodes feeding into a layer of {} nodes)'.format(l, m, n, m, n))\n",
        "# Print the actual coefficients\n",
        "# print(mlp.coefs_)\n",
        "\n",
        "print()\n",
        "print('There are {} 1D arrays of intercepts, one for each layer'.format(len(mlp.intercepts_)))\n",
        "print('Each layer has {} intercepts, one for each node'.format([len(mlp.intercepts_[l]) for l,_ in enumerate(mlp.intercepts_)]))\n"
      ],
      "metadata": {
        "id": "EF2o5n33-B7Z"
      },
      "execution_count": null,
      "outputs": []
    },
    {
      "cell_type": "code",
      "source": [
        "import networkx as nx\n",
        "import colorsys\n",
        "\n",
        "mlp = MLPClassifier(hidden_layer_sizes=(3),max_iter=5000)\n",
        "mlp.fit(X_train,y_train)\n",
        "predictions = mlp.predict(X_test)\n",
        "print(confusion_matrix(y_test,predictions))\n",
        "\n",
        "def show_ann(mlp):\n",
        "    hidden_layers_n = len(mlp.coefs_)-1\n",
        "    layers_n = hidden_layers_n + 2\n",
        "    input_neurons_n = len(mlp.coefs_[0])\n",
        "    hidden_neurons_n = [len(mlp.coefs_[i+1]) for i in range(hidden_layers_n)]\n",
        "    output_neurons_n = len(mlp.coefs_[-1][0])\n",
        "\n",
        "    G = nx.DiGraph()\n",
        "    pos = {}\n",
        "\n",
        "    for i in range(input_neurons_n):\n",
        "        pos['Layer0_{}'.format(i)] = (i,layers_n-1)\n",
        "\n",
        "    for j in range(hidden_layers_n):\n",
        "        prev_layer = j\n",
        "        cur_layer = j+1\n",
        "        if (j == 0):\n",
        "            prev_size = input_neurons_n\n",
        "        else:\n",
        "            prev_size = hidden_neurons_n[j-1]\n",
        "        for i in range(hidden_neurons_n[j]):\n",
        "            pos['Layer{}_{}'.format(cur_layer,i)] = (i,layers_n-1-cur_layer)\n",
        "            for k in range(prev_size):\n",
        "                w = mlp.coefs_[prev_layer][k][i]\n",
        "                G.add_edge('Layer{}_{}'.format(prev_layer,k),'Layer{}_{}'.format(cur_layer,i), weight=w)\n",
        "\n",
        "    prev_layer = hidden_layers_n\n",
        "    cur_layer = hidden_layers_n+1\n",
        "    for i in range(output_neurons_n):\n",
        "        pos['Layer{}_{}'.format(cur_layer,i)] = (i,layers_n-1-cur_layer)\n",
        "        for k in range(hidden_neurons_n[-1]):\n",
        "            w = mlp.coefs_[prev_layer][k][i]\n",
        "            G.add_edge('Layer{}_{}'.format(prev_layer,k),'Layer{}_{}'.format(cur_layer,i), weight=w)\n",
        "\n",
        "    edges = G.edges()\n",
        "    colors = [colorsys.hsv_to_rgb(0 if G[u][v]['weight'] < 0 else 0.65,\n",
        "                                  1,\n",
        "                                  1) for u,v in edges]\n",
        "    weights = [abs(G[u][v]['weight'])*2 for u,v in edges]\n",
        "\n",
        "    nx.draw(G, pos, node_color='y', node_size=450, width=weights, edge_color=colors)\n",
        "    \n",
        "show_ann(mlp)"
      ],
      "metadata": {
        "id": "892XeYns-EW4"
      },
      "execution_count": null,
      "outputs": []
    },
    {
      "cell_type": "code",
      "source": [
        "mlp1 = MLPClassifier(hidden_layer_sizes=(4, 4),max_iter=5000)"
      ],
      "metadata": {
        "id": "-ulXODX1Jbsj"
      },
      "execution_count": null,
      "outputs": []
    },
    {
      "cell_type": "code",
      "source": [
        "\n",
        "mlp1.fit(X_train,y_train)"
      ],
      "metadata": {
        "id": "b3Yfzpkxc6fI"
      },
      "execution_count": null,
      "outputs": []
    },
    {
      "cell_type": "code",
      "source": [
        "predictions1 = mlp1.predict(X_test)"
      ],
      "metadata": {
        "id": "VCVDnBXWdNgR"
      },
      "execution_count": null,
      "outputs": []
    },
    {
      "cell_type": "code",
      "source": [
        "print(confusion_matrix(y_test,predictions1))"
      ],
      "metadata": {
        "id": "yYbE3HVEdQbr"
      },
      "execution_count": null,
      "outputs": []
    },
    {
      "cell_type": "code",
      "source": [
        "print(classification_report(y_test,predictions1))"
      ],
      "metadata": {
        "id": "60xxCz-CdTGn"
      },
      "execution_count": null,
      "outputs": []
    },
    {
      "cell_type": "code",
      "source": [
        "print('This dataset has {} input nodes and {} output node(s)'.format(len(X.columns), len(y.unique())))\n",
        "print('There are {} 2D arrays of coefficients, one for each layer'.format(len(mlp1.coefs_)))\n",
        "print('The layers have the following number of coefficients: {}')\n",
        "for l in range(len(mlp1.coefs_)):\n",
        "    m = len(mlp1.coefs_[l])\n",
        "    n = len(mlp1.coefs_[l][0])\n",
        "    print('  {}: {}x{} ({} nodes feeding into a layer of {} nodes)'.format(l, m, n, m, n))\n",
        "# Print the actual coefficients\n",
        "# print(mlp.coefs_)\n",
        "\n",
        "print()\n",
        "print('There are {} 1D arrays of intercepts, one for each layer'.format(len(mlp1.intercepts_)))\n",
        "print('Each layer has {} intercepts, one for each node'.format([len(mlp1.intercepts_[l]) for l,_ in enumerate(mlp1.intercepts_)]))\n"
      ],
      "metadata": {
        "id": "dG3i0nUydYiz"
      },
      "execution_count": null,
      "outputs": []
    },
    {
      "cell_type": "code",
      "source": [
        "import networkx as nx\n",
        "import colorsys\n",
        "\n",
        "mlp1 = MLPClassifier(hidden_layer_sizes=(4, 4),max_iter=5000)\n",
        "mlp1.fit(X_train,y_train)\n",
        "predictions1 = mlp1.predict(X_test)\n",
        "print(confusion_matrix(y_test,predictions1))\n",
        "\n",
        "def show_ann(mlp):\n",
        "    hidden_layers_n = len(mlp1.coefs_)-1\n",
        "    layers_n = hidden_layers_n + 2\n",
        "    input_neurons_n = len(mlp1.coefs_[0])\n",
        "    hidden_neurons_n = [len(mlp1.coefs_[i+1]) for i in range(hidden_layers_n)]\n",
        "    output_neurons_n = len(mlp1.coefs_[-1][0])\n",
        "\n",
        "    G = nx.DiGraph()\n",
        "    pos = {}\n",
        "\n",
        "    for i in range(input_neurons_n):\n",
        "        pos['Layer0_{}'.format(i)] = (i,layers_n-1)\n",
        "\n",
        "    for j in range(hidden_layers_n):\n",
        "        prev_layer = j\n",
        "        cur_layer = j+1\n",
        "        if (j == 0):\n",
        "            prev_size = input_neurons_n\n",
        "        else:\n",
        "            prev_size = hidden_neurons_n[j-1]\n",
        "        for i in range(hidden_neurons_n[j]):\n",
        "            pos['Layer{}_{}'.format(cur_layer,i)] = (i,layers_n-1-cur_layer)\n",
        "            for k in range(prev_size):\n",
        "                w = mlp.coefs_[prev_layer][k][i]\n",
        "                G.add_edge('Layer{}_{}'.format(prev_layer,k),'Layer{}_{}'.format(cur_layer,i), weight=w)\n",
        "\n",
        "    prev_layer = hidden_layers_n\n",
        "    cur_layer = hidden_layers_n+1\n",
        "    for i in range(output_neurons_n):\n",
        "        pos['Layer{}_{}'.format(cur_layer,i)] = (i,layers_n-1-cur_layer)\n",
        "        for k in range(hidden_neurons_n[-1]):\n",
        "            w = mlp1.coefs_[prev_layer][k][i]\n",
        "            G.add_edge('Layer{}_{}'.format(prev_layer,k),'Layer{}_{}'.format(cur_layer,i), weight=w)\n",
        "\n",
        "    edges = G.edges()\n",
        "    colors = [colorsys.hsv_to_rgb(0 if G[u][v]['weight'] < 0 else 0.65,\n",
        "                                  1,\n",
        "                                  1) for u,v in edges]\n",
        "    weights = [abs(G[u][v]['weight'])*2 for u,v in edges]\n",
        "\n",
        "    nx.draw(G, pos, node_color='y', node_size=450, width=weights, edge_color=colors)\n",
        "    \n",
        "show_ann(mlp1)"
      ],
      "metadata": {
        "id": "_g7m4MEgdauz"
      },
      "execution_count": null,
      "outputs": []
    },
    {
      "cell_type": "code",
      "source": [
        "mlp2 = MLPClassifier(hidden_layer_sizes=(8, 4),max_iter=500)"
      ],
      "metadata": {
        "id": "5i5iLmEhdbyn"
      },
      "execution_count": null,
      "outputs": []
    },
    {
      "cell_type": "code",
      "source": [
        "mlp2.fit(X_train,y_train)"
      ],
      "metadata": {
        "id": "yVZ3hTkudcHX"
      },
      "execution_count": null,
      "outputs": []
    },
    {
      "cell_type": "code",
      "source": [
        "predictions2 = mlp2.predict(X_test)"
      ],
      "metadata": {
        "id": "Y6Sqrd0Adctg"
      },
      "execution_count": null,
      "outputs": []
    },
    {
      "cell_type": "code",
      "source": [
        "print(confusion_matrix(y_test,predictions2))"
      ],
      "metadata": {
        "id": "FRPzDwj7dc-4"
      },
      "execution_count": null,
      "outputs": []
    },
    {
      "cell_type": "code",
      "source": [
        "print(classification_report(y_test,predictions2))"
      ],
      "metadata": {
        "id": "V5WtJviydlrQ"
      },
      "execution_count": null,
      "outputs": []
    },
    {
      "cell_type": "code",
      "source": [
        "print('This dataset has {} input nodes and {} output node(s)'.format(len(X.columns), len(y.unique())))\n",
        "print('There are {} 2D arrays of coefficients, one for each layer'.format(len(mlp2.coefs_)))\n",
        "print('The layers have the following number of coefficients: {}')\n",
        "for l in range(len(mlp2.coefs_)):\n",
        "    m = len(mlp2.coefs_[l])\n",
        "    n = len(mlp2.coefs_[l][0])\n",
        "    print('  {}: {}x{} ({} nodes feeding into a layer of {} nodes)'.format(l, m, n, m, n))\n",
        "# Print the actual coefficients\n",
        "# print(mlp.coefs_)\n",
        "\n",
        "print()\n",
        "print('There are {} 1D arrays of intercepts, one for each layer'.format(len(mlp2.intercepts_)))\n",
        "print('Each layer has {} intercepts, one for each node'.format([len(mlp2.intercepts_[l]) for l,_ in enumerate(mlp2.intercepts_)]))"
      ],
      "metadata": {
        "id": "uhsNNix_dmMw"
      },
      "execution_count": null,
      "outputs": []
    },
    {
      "cell_type": "code",
      "source": [
        "import networkx as nx\n",
        "import colorsys\n",
        "\n",
        "mlp2 = MLPClassifier(hidden_layer_sizes=(8, 4),max_iter=5000)\n",
        "mlp2.fit(X_train,y_train)\n",
        "predictions2 = mlp2.predict(X_test)\n",
        "print(confusion_matrix(y_test,predictions2))\n",
        "\n",
        "def show_ann(mlp):\n",
        "    hidden_layers_n = len(mlp2.coefs_)-1\n",
        "    layers_n = hidden_layers_n + 2\n",
        "    input_neurons_n = len(mlp2.coefs_[0])\n",
        "    hidden_neurons_n = [len(mlp2.coefs_[i+1]) for i in range(hidden_layers_n)]\n",
        "    output_neurons_n = len(mlp2.coefs_[-1][0])\n",
        "\n",
        "    G = nx.DiGraph()\n",
        "    pos = {}\n",
        "\n",
        "    for i in range(input_neurons_n):\n",
        "        pos['Layer0_{}'.format(i)] = (i,layers_n-1)\n",
        "\n",
        "    for j in range(hidden_layers_n):\n",
        "        prev_layer = j\n",
        "        cur_layer = j+1\n",
        "        if (j == 0):\n",
        "            prev_size = input_neurons_n\n",
        "        else:\n",
        "            prev_size = hidden_neurons_n[j-1]\n",
        "        for i in range(hidden_neurons_n[j]):\n",
        "            pos['Layer{}_{}'.format(cur_layer,i)] = (i,layers_n-1-cur_layer)\n",
        "            for k in range(prev_size):\n",
        "                w = mlp2.coefs_[prev_layer][k][i]\n",
        "                G.add_edge('Layer{}_{}'.format(prev_layer,k),'Layer{}_{}'.format(cur_layer,i), weight=w)\n",
        "\n",
        "    prev_layer = hidden_layers_n\n",
        "    cur_layer = hidden_layers_n+1\n",
        "    for i in range(output_neurons_n):\n",
        "        pos['Layer{}_{}'.format(cur_layer,i)] = (i,layers_n-1-cur_layer)\n",
        "        for k in range(hidden_neurons_n[-1]):\n",
        "            w = mlp2.coefs_[prev_layer][k][i]\n",
        "            G.add_edge('Layer{}_{}'.format(prev_layer,k),'Layer{}_{}'.format(cur_layer,i), weight=w)\n",
        "\n",
        "    edges = G.edges()\n",
        "    colors = [colorsys.hsv_to_rgb(0 if G[u][v]['weight'] < 0 else 0.65,\n",
        "                                  1,\n",
        "                                  1) for u,v in edges]\n",
        "    weights = [abs(G[u][v]['weight'])*2 for u,v in edges]\n",
        "\n",
        "    nx.draw(G, pos, node_color='y', node_size=450, width=weights, edge_color=colors)\n",
        "    \n",
        "show_ann(mlp2)"
      ],
      "metadata": {
        "id": "DlS21hEkdqBJ"
      },
      "execution_count": null,
      "outputs": []
    }
  ]
}